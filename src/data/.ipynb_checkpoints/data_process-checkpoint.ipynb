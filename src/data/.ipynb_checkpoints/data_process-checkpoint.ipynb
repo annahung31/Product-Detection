{
 "cells": [
  {
   "cell_type": "code",
   "execution_count": 57,
   "metadata": {},
   "outputs": [],
   "source": [
    "import os\n",
    "import glob\n",
    "import yaml\n",
    "import pandas as pd\n",
    "from sklearn.model_selection import train_test_split"
   ]
  },
  {
   "cell_type": "code",
   "execution_count": 54,
   "metadata": {},
   "outputs": [],
   "source": [
    "cfg = yaml.full_load(open(os.getcwd() + \"/config.yml\", 'r'))  # Load config data"
   ]
  },
  {
   "cell_type": "code",
   "execution_count": 10,
   "metadata": {},
   "outputs": [],
   "source": [
    "dataDir = '../dataset/'\n",
    "trainDir = os.path.join(dataDir, 'train',  'train') \n",
    "testDir = os.path.join(dataDir, 'test', 'test')"
   ]
  },
  {
   "cell_type": "code",
   "execution_count": 37,
   "metadata": {},
   "outputs": [
    {
     "data": {
      "text/plain": [
       "0"
      ]
     },
     "execution_count": 37,
     "metadata": {},
     "output_type": "execute_result"
    }
   ],
   "source": [
    "min([int(name) for name in os.listdir(trainDir) if os.path.isdir(os.path.join(trainDir, name)) ])"
   ]
  },
  {
   "cell_type": "code",
   "execution_count": null,
   "metadata": {},
   "outputs": [],
   "source": []
  },
  {
   "cell_type": "markdown",
   "metadata": {},
   "source": [
    "**Build dataset**"
   ]
  },
  {
   "cell_type": "code",
   "execution_count": 20,
   "metadata": {},
   "outputs": [],
   "source": [
    "data_path = cfg['PATHS']['RAW_DATA']"
   ]
  },
  {
   "cell_type": "code",
   "execution_count": 44,
   "metadata": {},
   "outputs": [],
   "source": [
    "data_df = pd.read_csv(os.path.join(data_path, 'train.csv'))\n",
    "data_df['filename'] = data_path + '/train/' + data_df['filename'].astype(str)\n",
    "data_df['category'] = data_df['category'].astype(int)"
   ]
  },
  {
   "cell_type": "code",
   "execution_count": 45,
   "metadata": {},
   "outputs": [
    {
     "data": {
      "text/html": [
       "<div>\n",
       "<style scoped>\n",
       "    .dataframe tbody tr th:only-of-type {\n",
       "        vertical-align: middle;\n",
       "    }\n",
       "\n",
       "    .dataframe tbody tr th {\n",
       "        vertical-align: top;\n",
       "    }\n",
       "\n",
       "    .dataframe thead th {\n",
       "        text-align: right;\n",
       "    }\n",
       "</style>\n",
       "<table border=\"1\" class=\"dataframe\">\n",
       "  <thead>\n",
       "    <tr style=\"text-align: right;\">\n",
       "      <th></th>\n",
       "      <th>filename</th>\n",
       "      <th>category</th>\n",
       "    </tr>\n",
       "  </thead>\n",
       "  <tbody>\n",
       "    <tr>\n",
       "      <th>0</th>\n",
       "      <td>~/189nas/Wotcha/dataset/shopee/train/45e2d0c97...</td>\n",
       "      <td>3</td>\n",
       "    </tr>\n",
       "    <tr>\n",
       "      <th>1</th>\n",
       "      <td>~/189nas/Wotcha/dataset/shopee/train/f74d1a5fc...</td>\n",
       "      <td>3</td>\n",
       "    </tr>\n",
       "    <tr>\n",
       "      <th>2</th>\n",
       "      <td>~/189nas/Wotcha/dataset/shopee/train/f6c172096...</td>\n",
       "      <td>3</td>\n",
       "    </tr>\n",
       "    <tr>\n",
       "      <th>3</th>\n",
       "      <td>~/189nas/Wotcha/dataset/shopee/train/251ffd610...</td>\n",
       "      <td>3</td>\n",
       "    </tr>\n",
       "    <tr>\n",
       "      <th>4</th>\n",
       "      <td>~/189nas/Wotcha/dataset/shopee/train/73c7328b8...</td>\n",
       "      <td>3</td>\n",
       "    </tr>\n",
       "  </tbody>\n",
       "</table>\n",
       "</div>"
      ],
      "text/plain": [
       "                                            filename  category\n",
       "0  ~/189nas/Wotcha/dataset/shopee/train/45e2d0c97...         3\n",
       "1  ~/189nas/Wotcha/dataset/shopee/train/f74d1a5fc...         3\n",
       "2  ~/189nas/Wotcha/dataset/shopee/train/f6c172096...         3\n",
       "3  ~/189nas/Wotcha/dataset/shopee/train/251ffd610...         3\n",
       "4  ~/189nas/Wotcha/dataset/shopee/train/73c7328b8...         3"
      ]
     },
     "execution_count": 45,
     "metadata": {},
     "output_type": "execute_result"
    }
   ],
   "source": [
    "data_df.head()"
   ]
  },
  {
   "cell_type": "code",
   "execution_count": 55,
   "metadata": {},
   "outputs": [],
   "source": [
    "val_split = cfg['DATA']['VAL_SPLIT']"
   ]
  },
  {
   "cell_type": "code",
   "execution_count": 56,
   "metadata": {},
   "outputs": [
    {
     "data": {
      "text/plain": [
       "0.1"
      ]
     },
     "execution_count": 56,
     "metadata": {},
     "output_type": "execute_result"
    }
   ],
   "source": [
    "val_split"
   ]
  },
  {
   "cell_type": "code",
   "execution_count": 58,
   "metadata": {},
   "outputs": [],
   "source": [
    "file_df_train, file_df_val = train_test_split(data_df, test_size=val_split, stratify=data_df['category'])"
   ]
  },
  {
   "cell_type": "code",
   "execution_count": 60,
   "metadata": {},
   "outputs": [],
   "source": [
    "# Save training, validation and test sets\n",
    "if not os.path.exists(cfg['PATHS']['PROCESSED_DATA']):\n",
    "    os.makedirs(cfg['PATHS']['PROCESSED_DATA'])\n",
    "file_df_train.to_csv(cfg['PATHS']['TRAIN_SET'])\n",
    "file_df_val.to_csv(cfg['PATHS']['VAL_SET'])"
   ]
  },
  {
   "cell_type": "code",
   "execution_count": null,
   "metadata": {},
   "outputs": [],
   "source": []
  },
  {
   "cell_type": "markdown",
   "metadata": {},
   "source": [
    "**Statistics**"
   ]
  },
  {
   "cell_type": "code",
   "execution_count": 69,
   "metadata": {},
   "outputs": [
    {
     "data": {
      "text/plain": [
       "category\n",
       "0     2415\n",
       "1     2432\n",
       "2     2418\n",
       "3     2433\n",
       "4     2433\n",
       "5     2377\n",
       "6     2377\n",
       "7     2394\n",
       "8     2430\n",
       "9     2428\n",
       "10    2405\n",
       "11    1659\n",
       "12    2422\n",
       "13    2414\n",
       "14    2415\n",
       "15    2369\n",
       "16    2398\n",
       "17    1398\n",
       "18    1893\n",
       "19    2411\n",
       "20    2388\n",
       "21    2338\n",
       "22    2361\n",
       "23    2286\n",
       "24    2434\n",
       "25    2423\n",
       "26    2415\n",
       "27    2432\n",
       "28    2305\n",
       "29    1924\n",
       "30    2434\n",
       "31    2409\n",
       "32    1941\n",
       "33     516\n",
       "34    2339\n",
       "35    2392\n",
       "36    2417\n",
       "37    1552\n",
       "38    2406\n",
       "39    2410\n",
       "40    2413\n",
       "41    2396\n",
       "dtype: int64"
      ]
     },
     "execution_count": 69,
     "metadata": {},
     "output_type": "execute_result"
    }
   ],
   "source": [
    "train_data_df = pd.read_csv(cfg['PATHS']['TRAIN_SET'])\n",
    "train_categories = train_data_df.groupby(\"category\")\n",
    "train_categories.size()"
   ]
  },
  {
   "cell_type": "code",
   "execution_count": 70,
   "metadata": {},
   "outputs": [
    {
     "data": {
      "text/plain": [
       "category\n",
       "0     268\n",
       "1     270\n",
       "2     269\n",
       "3     270\n",
       "4     270\n",
       "5     264\n",
       "6     264\n",
       "7     266\n",
       "8     270\n",
       "9     270\n",
       "10    267\n",
       "11    184\n",
       "12    269\n",
       "13    268\n",
       "14    269\n",
       "15    263\n",
       "16    267\n",
       "17    155\n",
       "18    210\n",
       "19    268\n",
       "20    265\n",
       "21    260\n",
       "22    262\n",
       "23    254\n",
       "24    271\n",
       "25    269\n",
       "26    269\n",
       "27    270\n",
       "28    256\n",
       "29    214\n",
       "30    271\n",
       "31    268\n",
       "32    216\n",
       "33     57\n",
       "34    260\n",
       "35    266\n",
       "36    269\n",
       "37    173\n",
       "38    267\n",
       "39    268\n",
       "40    268\n",
       "41    266\n",
       "dtype: int64"
      ]
     },
     "execution_count": 70,
     "metadata": {},
     "output_type": "execute_result"
    }
   ],
   "source": [
    "val_data_df = pd.read_csv(cfg['PATHS']['VAL_SET'])\n",
    "val_categories = val_data_df.groupby(\"category\")\n",
    "val_categories.size()"
   ]
  },
  {
   "cell_type": "code",
   "execution_count": null,
   "metadata": {},
   "outputs": [],
   "source": []
  },
  {
   "cell_type": "code",
   "execution_count": null,
   "metadata": {},
   "outputs": [],
   "source": []
  }
 ],
 "metadata": {
  "kernelspec": {
   "display_name": "Python 3",
   "language": "python",
   "name": "python3"
  },
  "language_info": {
   "codemirror_mode": {
    "name": "ipython",
    "version": 3
   },
   "file_extension": ".py",
   "mimetype": "text/x-python",
   "name": "python",
   "nbconvert_exporter": "python",
   "pygments_lexer": "ipython3",
   "version": "3.7.3"
  }
 },
 "nbformat": 4,
 "nbformat_minor": 4
}
